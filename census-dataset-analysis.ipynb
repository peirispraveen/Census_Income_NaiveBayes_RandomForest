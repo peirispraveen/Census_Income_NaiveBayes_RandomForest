{
 "cells": [
  {
   "cell_type": "code",
   "execution_count": 76,
   "id": "initial_id",
   "metadata": {
    "collapsed": true,
    "ExecuteTime": {
     "end_time": "2024-03-21T07:48:48.908658Z",
     "start_time": "2024-03-21T07:48:48.890913Z"
    }
   },
   "outputs": [],
   "source": [
    "import pandas as pd\n",
    "from sklearn.model_selection import train_test_split\n",
    "from sklearn.naive_bayes import GaussianNB\n",
    "from sklearn.ensemble import RandomForestClassifier\n",
    "from sklearn.metrics import accuracy_score, classification_report\n",
    "from ucimlrepo import fetch_ucirepo\n",
    "from sklearn.preprocessing import LabelEncoder, StandardScaler\n",
    "from sklearn.impute import SimpleImputer\n",
    "import matplotlib.pyplot as plt\n",
    "import seaborn as sns\n",
    "import plotly.express as px"
   ]
  },
  {
   "cell_type": "code",
   "outputs": [],
   "source": [
    "import warnings\n",
    "warnings.filterwarnings(\"ignore\")"
   ],
   "metadata": {
    "collapsed": false,
    "ExecuteTime": {
     "end_time": "2024-03-21T07:48:49.330412Z",
     "start_time": "2024-03-21T07:48:49.311816Z"
    }
   },
   "id": "b174f094afbe896f",
   "execution_count": 77
  },
  {
   "cell_type": "code",
   "outputs": [],
   "source": [
    "# fetch dataset \n",
    "adult = fetch_ucirepo(id=2) \n",
    "\n",
    "# data (as pandas dataframes) \n",
    "X = adult.data.features \n",
    "Y = adult.data.targets"
   ],
   "metadata": {
    "collapsed": false,
    "ExecuteTime": {
     "end_time": "2024-03-21T07:49:05.899440Z",
     "start_time": "2024-03-21T07:48:49.653190Z"
    }
   },
   "id": "618a56438a8c8dfa",
   "execution_count": 78
  },
  {
   "cell_type": "code",
   "outputs": [],
   "source": [
    "df = pd.DataFrame(data=X, columns=adult.data.feature_names)\n",
    "df['income'] = Y"
   ],
   "metadata": {
    "collapsed": false,
    "ExecuteTime": {
     "end_time": "2024-03-21T07:49:05.915098Z",
     "start_time": "2024-03-21T07:49:05.901444Z"
    }
   },
   "id": "642151c204980a4f",
   "execution_count": 79
  },
  {
   "cell_type": "markdown",
   "source": [
    "Rows and Columns"
   ],
   "metadata": {
    "collapsed": false
   },
   "id": "a62a2bea6df6f95c"
  },
  {
   "cell_type": "code",
   "outputs": [
    {
     "data": {
      "text/plain": "(48842, 15)"
     },
     "execution_count": 80,
     "metadata": {},
     "output_type": "execute_result"
    }
   ],
   "source": [
    "df.shape"
   ],
   "metadata": {
    "collapsed": false,
    "ExecuteTime": {
     "end_time": "2024-03-21T07:49:05.930574Z",
     "start_time": "2024-03-21T07:49:05.918057Z"
    }
   },
   "id": "7edfd02502c01b8f",
   "execution_count": 80
  },
  {
   "cell_type": "code",
   "outputs": [
    {
     "data": {
      "text/plain": "    age         workclass  fnlwgt     education  education-num  \\\n0    39         State-gov   77516     Bachelors             13   \n1    50  Self-emp-not-inc   83311     Bachelors             13   \n2    38           Private  215646       HS-grad              9   \n3    53           Private  234721          11th              7   \n4    28           Private  338409     Bachelors             13   \n5    37           Private  284582       Masters             14   \n6    49           Private  160187           9th              5   \n7    52  Self-emp-not-inc  209642       HS-grad              9   \n8    31           Private   45781       Masters             14   \n9    42           Private  159449     Bachelors             13   \n10   37           Private  280464  Some-college             10   \n11   30         State-gov  141297     Bachelors             13   \n12   23           Private  122272     Bachelors             13   \n13   32           Private  205019    Assoc-acdm             12   \n14   40           Private  121772     Assoc-voc             11   \n15   34           Private  245487       7th-8th              4   \n16   25  Self-emp-not-inc  176756       HS-grad              9   \n17   32           Private  186824       HS-grad              9   \n18   38           Private   28887          11th              7   \n19   43  Self-emp-not-inc  292175       Masters             14   \n20   40           Private  193524     Doctorate             16   \n21   54           Private  302146       HS-grad              9   \n22   35       Federal-gov   76845           9th              5   \n23   43           Private  117037          11th              7   \n24   59           Private  109015       HS-grad              9   \n25   56         Local-gov  216851     Bachelors             13   \n26   19           Private  168294       HS-grad              9   \n27   54                 ?  180211  Some-college             10   \n28   39           Private  367260       HS-grad              9   \n29   49           Private  193366       HS-grad              9   \n30   23         Local-gov  190709    Assoc-acdm             12   \n31   20           Private  266015  Some-college             10   \n32   45           Private  386940     Bachelors             13   \n33   30       Federal-gov   59951  Some-college             10   \n34   22         State-gov  311512  Some-college             10   \n35   48           Private  242406          11th              7   \n36   21           Private  197200  Some-college             10   \n37   19           Private  544091       HS-grad              9   \n38   31           Private   84154  Some-college             10   \n39   48  Self-emp-not-inc  265477    Assoc-acdm             12   \n40   31           Private  507875           9th              5   \n41   53  Self-emp-not-inc   88506     Bachelors             13   \n42   24           Private  172987     Bachelors             13   \n43   49           Private   94638       HS-grad              9   \n44   25           Private  289980       HS-grad              9   \n45   57       Federal-gov  337895     Bachelors             13   \n46   53           Private  144361       HS-grad              9   \n47   44           Private  128354       Masters             14   \n48   41         State-gov  101603     Assoc-voc             11   \n49   29           Private  271466     Assoc-voc             11   \n\n           marital-status         occupation   relationship  \\\n0           Never-married       Adm-clerical  Not-in-family   \n1      Married-civ-spouse    Exec-managerial        Husband   \n2                Divorced  Handlers-cleaners  Not-in-family   \n3      Married-civ-spouse  Handlers-cleaners        Husband   \n4      Married-civ-spouse     Prof-specialty           Wife   \n5      Married-civ-spouse    Exec-managerial           Wife   \n6   Married-spouse-absent      Other-service  Not-in-family   \n7      Married-civ-spouse    Exec-managerial        Husband   \n8           Never-married     Prof-specialty  Not-in-family   \n9      Married-civ-spouse    Exec-managerial        Husband   \n10     Married-civ-spouse    Exec-managerial        Husband   \n11     Married-civ-spouse     Prof-specialty        Husband   \n12          Never-married       Adm-clerical      Own-child   \n13          Never-married              Sales  Not-in-family   \n14     Married-civ-spouse       Craft-repair        Husband   \n15     Married-civ-spouse   Transport-moving        Husband   \n16          Never-married    Farming-fishing      Own-child   \n17          Never-married  Machine-op-inspct      Unmarried   \n18     Married-civ-spouse              Sales        Husband   \n19               Divorced    Exec-managerial      Unmarried   \n20     Married-civ-spouse     Prof-specialty        Husband   \n21              Separated      Other-service      Unmarried   \n22     Married-civ-spouse    Farming-fishing        Husband   \n23     Married-civ-spouse   Transport-moving        Husband   \n24               Divorced       Tech-support      Unmarried   \n25     Married-civ-spouse       Tech-support        Husband   \n26          Never-married       Craft-repair      Own-child   \n27     Married-civ-spouse                  ?        Husband   \n28               Divorced    Exec-managerial  Not-in-family   \n29     Married-civ-spouse       Craft-repair        Husband   \n30          Never-married    Protective-serv  Not-in-family   \n31          Never-married              Sales      Own-child   \n32               Divorced    Exec-managerial      Own-child   \n33     Married-civ-spouse       Adm-clerical      Own-child   \n34     Married-civ-spouse      Other-service        Husband   \n35          Never-married  Machine-op-inspct      Unmarried   \n36          Never-married  Machine-op-inspct      Own-child   \n37      Married-AF-spouse       Adm-clerical           Wife   \n38     Married-civ-spouse              Sales        Husband   \n39     Married-civ-spouse     Prof-specialty        Husband   \n40     Married-civ-spouse  Machine-op-inspct        Husband   \n41     Married-civ-spouse     Prof-specialty        Husband   \n42     Married-civ-spouse       Tech-support        Husband   \n43              Separated       Adm-clerical      Unmarried   \n44          Never-married  Handlers-cleaners  Not-in-family   \n45     Married-civ-spouse     Prof-specialty        Husband   \n46     Married-civ-spouse  Machine-op-inspct        Husband   \n47               Divorced    Exec-managerial      Unmarried   \n48     Married-civ-spouse       Craft-repair        Husband   \n49          Never-married     Prof-specialty  Not-in-family   \n\n                  race     sex  capital-gain  capital-loss  hours-per-week  \\\n0                White    Male          2174             0              40   \n1                White    Male             0             0              13   \n2                White    Male             0             0              40   \n3                Black    Male             0             0              40   \n4                Black  Female             0             0              40   \n5                White  Female             0             0              40   \n6                Black  Female             0             0              16   \n7                White    Male             0             0              45   \n8                White  Female         14084             0              50   \n9                White    Male          5178             0              40   \n10               Black    Male             0             0              80   \n11  Asian-Pac-Islander    Male             0             0              40   \n12               White  Female             0             0              30   \n13               Black    Male             0             0              50   \n14  Asian-Pac-Islander    Male             0             0              40   \n15  Amer-Indian-Eskimo    Male             0             0              45   \n16               White    Male             0             0              35   \n17               White    Male             0             0              40   \n18               White    Male             0             0              50   \n19               White  Female             0             0              45   \n20               White    Male             0             0              60   \n21               Black  Female             0             0              20   \n22               Black    Male             0             0              40   \n23               White    Male             0          2042              40   \n24               White  Female             0             0              40   \n25               White    Male             0             0              40   \n26               White    Male             0             0              40   \n27  Asian-Pac-Islander    Male             0             0              60   \n28               White    Male             0             0              80   \n29               White    Male             0             0              40   \n30               White    Male             0             0              52   \n31               Black    Male             0             0              44   \n32               White    Male             0          1408              40   \n33               White    Male             0             0              40   \n34               Black    Male             0             0              15   \n35               White    Male             0             0              40   \n36               White    Male             0             0              40   \n37               White  Female             0             0              25   \n38               White    Male             0             0              38   \n39               White    Male             0             0              40   \n40               White    Male             0             0              43   \n41               White    Male             0             0              40   \n42               White    Male             0             0              50   \n43               White  Female             0             0              40   \n44               White    Male             0             0              35   \n45               Black    Male             0             0              40   \n46               White    Male             0             0              38   \n47               White  Female             0             0              40   \n48               White    Male             0             0              40   \n49               White    Male             0             0              43   \n\n   native-country income  \n0   United-States  <=50K  \n1   United-States  <=50K  \n2   United-States  <=50K  \n3   United-States  <=50K  \n4            Cuba  <=50K  \n5   United-States  <=50K  \n6         Jamaica  <=50K  \n7   United-States   >50K  \n8   United-States   >50K  \n9   United-States   >50K  \n10  United-States   >50K  \n11          India   >50K  \n12  United-States  <=50K  \n13  United-States  <=50K  \n14              ?   >50K  \n15         Mexico  <=50K  \n16  United-States  <=50K  \n17  United-States  <=50K  \n18  United-States  <=50K  \n19  United-States   >50K  \n20  United-States   >50K  \n21  United-States  <=50K  \n22  United-States  <=50K  \n23  United-States  <=50K  \n24  United-States  <=50K  \n25  United-States   >50K  \n26  United-States  <=50K  \n27          South   >50K  \n28  United-States  <=50K  \n29  United-States  <=50K  \n30  United-States  <=50K  \n31  United-States  <=50K  \n32  United-States  <=50K  \n33  United-States  <=50K  \n34  United-States  <=50K  \n35    Puerto-Rico  <=50K  \n36  United-States  <=50K  \n37  United-States  <=50K  \n38              ?   >50K  \n39  United-States  <=50K  \n40  United-States  <=50K  \n41  United-States  <=50K  \n42  United-States  <=50K  \n43  United-States  <=50K  \n44  United-States  <=50K  \n45  United-States   >50K  \n46  United-States  <=50K  \n47  United-States  <=50K  \n48  United-States  <=50K  \n49  United-States  <=50K  ",
      "text/html": "<div>\n<style scoped>\n    .dataframe tbody tr th:only-of-type {\n        vertical-align: middle;\n    }\n\n    .dataframe tbody tr th {\n        vertical-align: top;\n    }\n\n    .dataframe thead th {\n        text-align: right;\n    }\n</style>\n<table border=\"1\" class=\"dataframe\">\n  <thead>\n    <tr style=\"text-align: right;\">\n      <th></th>\n      <th>age</th>\n      <th>workclass</th>\n      <th>fnlwgt</th>\n      <th>education</th>\n      <th>education-num</th>\n      <th>marital-status</th>\n      <th>occupation</th>\n      <th>relationship</th>\n      <th>race</th>\n      <th>sex</th>\n      <th>capital-gain</th>\n      <th>capital-loss</th>\n      <th>hours-per-week</th>\n      <th>native-country</th>\n      <th>income</th>\n    </tr>\n  </thead>\n  <tbody>\n    <tr>\n      <th>0</th>\n      <td>39</td>\n      <td>State-gov</td>\n      <td>77516</td>\n      <td>Bachelors</td>\n      <td>13</td>\n      <td>Never-married</td>\n      <td>Adm-clerical</td>\n      <td>Not-in-family</td>\n      <td>White</td>\n      <td>Male</td>\n      <td>2174</td>\n      <td>0</td>\n      <td>40</td>\n      <td>United-States</td>\n      <td>&lt;=50K</td>\n    </tr>\n    <tr>\n      <th>1</th>\n      <td>50</td>\n      <td>Self-emp-not-inc</td>\n      <td>83311</td>\n      <td>Bachelors</td>\n      <td>13</td>\n      <td>Married-civ-spouse</td>\n      <td>Exec-managerial</td>\n      <td>Husband</td>\n      <td>White</td>\n      <td>Male</td>\n      <td>0</td>\n      <td>0</td>\n      <td>13</td>\n      <td>United-States</td>\n      <td>&lt;=50K</td>\n    </tr>\n    <tr>\n      <th>2</th>\n      <td>38</td>\n      <td>Private</td>\n      <td>215646</td>\n      <td>HS-grad</td>\n      <td>9</td>\n      <td>Divorced</td>\n      <td>Handlers-cleaners</td>\n      <td>Not-in-family</td>\n      <td>White</td>\n      <td>Male</td>\n      <td>0</td>\n      <td>0</td>\n      <td>40</td>\n      <td>United-States</td>\n      <td>&lt;=50K</td>\n    </tr>\n    <tr>\n      <th>3</th>\n      <td>53</td>\n      <td>Private</td>\n      <td>234721</td>\n      <td>11th</td>\n      <td>7</td>\n      <td>Married-civ-spouse</td>\n      <td>Handlers-cleaners</td>\n      <td>Husband</td>\n      <td>Black</td>\n      <td>Male</td>\n      <td>0</td>\n      <td>0</td>\n      <td>40</td>\n      <td>United-States</td>\n      <td>&lt;=50K</td>\n    </tr>\n    <tr>\n      <th>4</th>\n      <td>28</td>\n      <td>Private</td>\n      <td>338409</td>\n      <td>Bachelors</td>\n      <td>13</td>\n      <td>Married-civ-spouse</td>\n      <td>Prof-specialty</td>\n      <td>Wife</td>\n      <td>Black</td>\n      <td>Female</td>\n      <td>0</td>\n      <td>0</td>\n      <td>40</td>\n      <td>Cuba</td>\n      <td>&lt;=50K</td>\n    </tr>\n    <tr>\n      <th>5</th>\n      <td>37</td>\n      <td>Private</td>\n      <td>284582</td>\n      <td>Masters</td>\n      <td>14</td>\n      <td>Married-civ-spouse</td>\n      <td>Exec-managerial</td>\n      <td>Wife</td>\n      <td>White</td>\n      <td>Female</td>\n      <td>0</td>\n      <td>0</td>\n      <td>40</td>\n      <td>United-States</td>\n      <td>&lt;=50K</td>\n    </tr>\n    <tr>\n      <th>6</th>\n      <td>49</td>\n      <td>Private</td>\n      <td>160187</td>\n      <td>9th</td>\n      <td>5</td>\n      <td>Married-spouse-absent</td>\n      <td>Other-service</td>\n      <td>Not-in-family</td>\n      <td>Black</td>\n      <td>Female</td>\n      <td>0</td>\n      <td>0</td>\n      <td>16</td>\n      <td>Jamaica</td>\n      <td>&lt;=50K</td>\n    </tr>\n    <tr>\n      <th>7</th>\n      <td>52</td>\n      <td>Self-emp-not-inc</td>\n      <td>209642</td>\n      <td>HS-grad</td>\n      <td>9</td>\n      <td>Married-civ-spouse</td>\n      <td>Exec-managerial</td>\n      <td>Husband</td>\n      <td>White</td>\n      <td>Male</td>\n      <td>0</td>\n      <td>0</td>\n      <td>45</td>\n      <td>United-States</td>\n      <td>&gt;50K</td>\n    </tr>\n    <tr>\n      <th>8</th>\n      <td>31</td>\n      <td>Private</td>\n      <td>45781</td>\n      <td>Masters</td>\n      <td>14</td>\n      <td>Never-married</td>\n      <td>Prof-specialty</td>\n      <td>Not-in-family</td>\n      <td>White</td>\n      <td>Female</td>\n      <td>14084</td>\n      <td>0</td>\n      <td>50</td>\n      <td>United-States</td>\n      <td>&gt;50K</td>\n    </tr>\n    <tr>\n      <th>9</th>\n      <td>42</td>\n      <td>Private</td>\n      <td>159449</td>\n      <td>Bachelors</td>\n      <td>13</td>\n      <td>Married-civ-spouse</td>\n      <td>Exec-managerial</td>\n      <td>Husband</td>\n      <td>White</td>\n      <td>Male</td>\n      <td>5178</td>\n      <td>0</td>\n      <td>40</td>\n      <td>United-States</td>\n      <td>&gt;50K</td>\n    </tr>\n    <tr>\n      <th>10</th>\n      <td>37</td>\n      <td>Private</td>\n      <td>280464</td>\n      <td>Some-college</td>\n      <td>10</td>\n      <td>Married-civ-spouse</td>\n      <td>Exec-managerial</td>\n      <td>Husband</td>\n      <td>Black</td>\n      <td>Male</td>\n      <td>0</td>\n      <td>0</td>\n      <td>80</td>\n      <td>United-States</td>\n      <td>&gt;50K</td>\n    </tr>\n    <tr>\n      <th>11</th>\n      <td>30</td>\n      <td>State-gov</td>\n      <td>141297</td>\n      <td>Bachelors</td>\n      <td>13</td>\n      <td>Married-civ-spouse</td>\n      <td>Prof-specialty</td>\n      <td>Husband</td>\n      <td>Asian-Pac-Islander</td>\n      <td>Male</td>\n      <td>0</td>\n      <td>0</td>\n      <td>40</td>\n      <td>India</td>\n      <td>&gt;50K</td>\n    </tr>\n    <tr>\n      <th>12</th>\n      <td>23</td>\n      <td>Private</td>\n      <td>122272</td>\n      <td>Bachelors</td>\n      <td>13</td>\n      <td>Never-married</td>\n      <td>Adm-clerical</td>\n      <td>Own-child</td>\n      <td>White</td>\n      <td>Female</td>\n      <td>0</td>\n      <td>0</td>\n      <td>30</td>\n      <td>United-States</td>\n      <td>&lt;=50K</td>\n    </tr>\n    <tr>\n      <th>13</th>\n      <td>32</td>\n      <td>Private</td>\n      <td>205019</td>\n      <td>Assoc-acdm</td>\n      <td>12</td>\n      <td>Never-married</td>\n      <td>Sales</td>\n      <td>Not-in-family</td>\n      <td>Black</td>\n      <td>Male</td>\n      <td>0</td>\n      <td>0</td>\n      <td>50</td>\n      <td>United-States</td>\n      <td>&lt;=50K</td>\n    </tr>\n    <tr>\n      <th>14</th>\n      <td>40</td>\n      <td>Private</td>\n      <td>121772</td>\n      <td>Assoc-voc</td>\n      <td>11</td>\n      <td>Married-civ-spouse</td>\n      <td>Craft-repair</td>\n      <td>Husband</td>\n      <td>Asian-Pac-Islander</td>\n      <td>Male</td>\n      <td>0</td>\n      <td>0</td>\n      <td>40</td>\n      <td>?</td>\n      <td>&gt;50K</td>\n    </tr>\n    <tr>\n      <th>15</th>\n      <td>34</td>\n      <td>Private</td>\n      <td>245487</td>\n      <td>7th-8th</td>\n      <td>4</td>\n      <td>Married-civ-spouse</td>\n      <td>Transport-moving</td>\n      <td>Husband</td>\n      <td>Amer-Indian-Eskimo</td>\n      <td>Male</td>\n      <td>0</td>\n      <td>0</td>\n      <td>45</td>\n      <td>Mexico</td>\n      <td>&lt;=50K</td>\n    </tr>\n    <tr>\n      <th>16</th>\n      <td>25</td>\n      <td>Self-emp-not-inc</td>\n      <td>176756</td>\n      <td>HS-grad</td>\n      <td>9</td>\n      <td>Never-married</td>\n      <td>Farming-fishing</td>\n      <td>Own-child</td>\n      <td>White</td>\n      <td>Male</td>\n      <td>0</td>\n      <td>0</td>\n      <td>35</td>\n      <td>United-States</td>\n      <td>&lt;=50K</td>\n    </tr>\n    <tr>\n      <th>17</th>\n      <td>32</td>\n      <td>Private</td>\n      <td>186824</td>\n      <td>HS-grad</td>\n      <td>9</td>\n      <td>Never-married</td>\n      <td>Machine-op-inspct</td>\n      <td>Unmarried</td>\n      <td>White</td>\n      <td>Male</td>\n      <td>0</td>\n      <td>0</td>\n      <td>40</td>\n      <td>United-States</td>\n      <td>&lt;=50K</td>\n    </tr>\n    <tr>\n      <th>18</th>\n      <td>38</td>\n      <td>Private</td>\n      <td>28887</td>\n      <td>11th</td>\n      <td>7</td>\n      <td>Married-civ-spouse</td>\n      <td>Sales</td>\n      <td>Husband</td>\n      <td>White</td>\n      <td>Male</td>\n      <td>0</td>\n      <td>0</td>\n      <td>50</td>\n      <td>United-States</td>\n      <td>&lt;=50K</td>\n    </tr>\n    <tr>\n      <th>19</th>\n      <td>43</td>\n      <td>Self-emp-not-inc</td>\n      <td>292175</td>\n      <td>Masters</td>\n      <td>14</td>\n      <td>Divorced</td>\n      <td>Exec-managerial</td>\n      <td>Unmarried</td>\n      <td>White</td>\n      <td>Female</td>\n      <td>0</td>\n      <td>0</td>\n      <td>45</td>\n      <td>United-States</td>\n      <td>&gt;50K</td>\n    </tr>\n    <tr>\n      <th>20</th>\n      <td>40</td>\n      <td>Private</td>\n      <td>193524</td>\n      <td>Doctorate</td>\n      <td>16</td>\n      <td>Married-civ-spouse</td>\n      <td>Prof-specialty</td>\n      <td>Husband</td>\n      <td>White</td>\n      <td>Male</td>\n      <td>0</td>\n      <td>0</td>\n      <td>60</td>\n      <td>United-States</td>\n      <td>&gt;50K</td>\n    </tr>\n    <tr>\n      <th>21</th>\n      <td>54</td>\n      <td>Private</td>\n      <td>302146</td>\n      <td>HS-grad</td>\n      <td>9</td>\n      <td>Separated</td>\n      <td>Other-service</td>\n      <td>Unmarried</td>\n      <td>Black</td>\n      <td>Female</td>\n      <td>0</td>\n      <td>0</td>\n      <td>20</td>\n      <td>United-States</td>\n      <td>&lt;=50K</td>\n    </tr>\n    <tr>\n      <th>22</th>\n      <td>35</td>\n      <td>Federal-gov</td>\n      <td>76845</td>\n      <td>9th</td>\n      <td>5</td>\n      <td>Married-civ-spouse</td>\n      <td>Farming-fishing</td>\n      <td>Husband</td>\n      <td>Black</td>\n      <td>Male</td>\n      <td>0</td>\n      <td>0</td>\n      <td>40</td>\n      <td>United-States</td>\n      <td>&lt;=50K</td>\n    </tr>\n    <tr>\n      <th>23</th>\n      <td>43</td>\n      <td>Private</td>\n      <td>117037</td>\n      <td>11th</td>\n      <td>7</td>\n      <td>Married-civ-spouse</td>\n      <td>Transport-moving</td>\n      <td>Husband</td>\n      <td>White</td>\n      <td>Male</td>\n      <td>0</td>\n      <td>2042</td>\n      <td>40</td>\n      <td>United-States</td>\n      <td>&lt;=50K</td>\n    </tr>\n    <tr>\n      <th>24</th>\n      <td>59</td>\n      <td>Private</td>\n      <td>109015</td>\n      <td>HS-grad</td>\n      <td>9</td>\n      <td>Divorced</td>\n      <td>Tech-support</td>\n      <td>Unmarried</td>\n      <td>White</td>\n      <td>Female</td>\n      <td>0</td>\n      <td>0</td>\n      <td>40</td>\n      <td>United-States</td>\n      <td>&lt;=50K</td>\n    </tr>\n    <tr>\n      <th>25</th>\n      <td>56</td>\n      <td>Local-gov</td>\n      <td>216851</td>\n      <td>Bachelors</td>\n      <td>13</td>\n      <td>Married-civ-spouse</td>\n      <td>Tech-support</td>\n      <td>Husband</td>\n      <td>White</td>\n      <td>Male</td>\n      <td>0</td>\n      <td>0</td>\n      <td>40</td>\n      <td>United-States</td>\n      <td>&gt;50K</td>\n    </tr>\n    <tr>\n      <th>26</th>\n      <td>19</td>\n      <td>Private</td>\n      <td>168294</td>\n      <td>HS-grad</td>\n      <td>9</td>\n      <td>Never-married</td>\n      <td>Craft-repair</td>\n      <td>Own-child</td>\n      <td>White</td>\n      <td>Male</td>\n      <td>0</td>\n      <td>0</td>\n      <td>40</td>\n      <td>United-States</td>\n      <td>&lt;=50K</td>\n    </tr>\n    <tr>\n      <th>27</th>\n      <td>54</td>\n      <td>?</td>\n      <td>180211</td>\n      <td>Some-college</td>\n      <td>10</td>\n      <td>Married-civ-spouse</td>\n      <td>?</td>\n      <td>Husband</td>\n      <td>Asian-Pac-Islander</td>\n      <td>Male</td>\n      <td>0</td>\n      <td>0</td>\n      <td>60</td>\n      <td>South</td>\n      <td>&gt;50K</td>\n    </tr>\n    <tr>\n      <th>28</th>\n      <td>39</td>\n      <td>Private</td>\n      <td>367260</td>\n      <td>HS-grad</td>\n      <td>9</td>\n      <td>Divorced</td>\n      <td>Exec-managerial</td>\n      <td>Not-in-family</td>\n      <td>White</td>\n      <td>Male</td>\n      <td>0</td>\n      <td>0</td>\n      <td>80</td>\n      <td>United-States</td>\n      <td>&lt;=50K</td>\n    </tr>\n    <tr>\n      <th>29</th>\n      <td>49</td>\n      <td>Private</td>\n      <td>193366</td>\n      <td>HS-grad</td>\n      <td>9</td>\n      <td>Married-civ-spouse</td>\n      <td>Craft-repair</td>\n      <td>Husband</td>\n      <td>White</td>\n      <td>Male</td>\n      <td>0</td>\n      <td>0</td>\n      <td>40</td>\n      <td>United-States</td>\n      <td>&lt;=50K</td>\n    </tr>\n    <tr>\n      <th>30</th>\n      <td>23</td>\n      <td>Local-gov</td>\n      <td>190709</td>\n      <td>Assoc-acdm</td>\n      <td>12</td>\n      <td>Never-married</td>\n      <td>Protective-serv</td>\n      <td>Not-in-family</td>\n      <td>White</td>\n      <td>Male</td>\n      <td>0</td>\n      <td>0</td>\n      <td>52</td>\n      <td>United-States</td>\n      <td>&lt;=50K</td>\n    </tr>\n    <tr>\n      <th>31</th>\n      <td>20</td>\n      <td>Private</td>\n      <td>266015</td>\n      <td>Some-college</td>\n      <td>10</td>\n      <td>Never-married</td>\n      <td>Sales</td>\n      <td>Own-child</td>\n      <td>Black</td>\n      <td>Male</td>\n      <td>0</td>\n      <td>0</td>\n      <td>44</td>\n      <td>United-States</td>\n      <td>&lt;=50K</td>\n    </tr>\n    <tr>\n      <th>32</th>\n      <td>45</td>\n      <td>Private</td>\n      <td>386940</td>\n      <td>Bachelors</td>\n      <td>13</td>\n      <td>Divorced</td>\n      <td>Exec-managerial</td>\n      <td>Own-child</td>\n      <td>White</td>\n      <td>Male</td>\n      <td>0</td>\n      <td>1408</td>\n      <td>40</td>\n      <td>United-States</td>\n      <td>&lt;=50K</td>\n    </tr>\n    <tr>\n      <th>33</th>\n      <td>30</td>\n      <td>Federal-gov</td>\n      <td>59951</td>\n      <td>Some-college</td>\n      <td>10</td>\n      <td>Married-civ-spouse</td>\n      <td>Adm-clerical</td>\n      <td>Own-child</td>\n      <td>White</td>\n      <td>Male</td>\n      <td>0</td>\n      <td>0</td>\n      <td>40</td>\n      <td>United-States</td>\n      <td>&lt;=50K</td>\n    </tr>\n    <tr>\n      <th>34</th>\n      <td>22</td>\n      <td>State-gov</td>\n      <td>311512</td>\n      <td>Some-college</td>\n      <td>10</td>\n      <td>Married-civ-spouse</td>\n      <td>Other-service</td>\n      <td>Husband</td>\n      <td>Black</td>\n      <td>Male</td>\n      <td>0</td>\n      <td>0</td>\n      <td>15</td>\n      <td>United-States</td>\n      <td>&lt;=50K</td>\n    </tr>\n    <tr>\n      <th>35</th>\n      <td>48</td>\n      <td>Private</td>\n      <td>242406</td>\n      <td>11th</td>\n      <td>7</td>\n      <td>Never-married</td>\n      <td>Machine-op-inspct</td>\n      <td>Unmarried</td>\n      <td>White</td>\n      <td>Male</td>\n      <td>0</td>\n      <td>0</td>\n      <td>40</td>\n      <td>Puerto-Rico</td>\n      <td>&lt;=50K</td>\n    </tr>\n    <tr>\n      <th>36</th>\n      <td>21</td>\n      <td>Private</td>\n      <td>197200</td>\n      <td>Some-college</td>\n      <td>10</td>\n      <td>Never-married</td>\n      <td>Machine-op-inspct</td>\n      <td>Own-child</td>\n      <td>White</td>\n      <td>Male</td>\n      <td>0</td>\n      <td>0</td>\n      <td>40</td>\n      <td>United-States</td>\n      <td>&lt;=50K</td>\n    </tr>\n    <tr>\n      <th>37</th>\n      <td>19</td>\n      <td>Private</td>\n      <td>544091</td>\n      <td>HS-grad</td>\n      <td>9</td>\n      <td>Married-AF-spouse</td>\n      <td>Adm-clerical</td>\n      <td>Wife</td>\n      <td>White</td>\n      <td>Female</td>\n      <td>0</td>\n      <td>0</td>\n      <td>25</td>\n      <td>United-States</td>\n      <td>&lt;=50K</td>\n    </tr>\n    <tr>\n      <th>38</th>\n      <td>31</td>\n      <td>Private</td>\n      <td>84154</td>\n      <td>Some-college</td>\n      <td>10</td>\n      <td>Married-civ-spouse</td>\n      <td>Sales</td>\n      <td>Husband</td>\n      <td>White</td>\n      <td>Male</td>\n      <td>0</td>\n      <td>0</td>\n      <td>38</td>\n      <td>?</td>\n      <td>&gt;50K</td>\n    </tr>\n    <tr>\n      <th>39</th>\n      <td>48</td>\n      <td>Self-emp-not-inc</td>\n      <td>265477</td>\n      <td>Assoc-acdm</td>\n      <td>12</td>\n      <td>Married-civ-spouse</td>\n      <td>Prof-specialty</td>\n      <td>Husband</td>\n      <td>White</td>\n      <td>Male</td>\n      <td>0</td>\n      <td>0</td>\n      <td>40</td>\n      <td>United-States</td>\n      <td>&lt;=50K</td>\n    </tr>\n    <tr>\n      <th>40</th>\n      <td>31</td>\n      <td>Private</td>\n      <td>507875</td>\n      <td>9th</td>\n      <td>5</td>\n      <td>Married-civ-spouse</td>\n      <td>Machine-op-inspct</td>\n      <td>Husband</td>\n      <td>White</td>\n      <td>Male</td>\n      <td>0</td>\n      <td>0</td>\n      <td>43</td>\n      <td>United-States</td>\n      <td>&lt;=50K</td>\n    </tr>\n    <tr>\n      <th>41</th>\n      <td>53</td>\n      <td>Self-emp-not-inc</td>\n      <td>88506</td>\n      <td>Bachelors</td>\n      <td>13</td>\n      <td>Married-civ-spouse</td>\n      <td>Prof-specialty</td>\n      <td>Husband</td>\n      <td>White</td>\n      <td>Male</td>\n      <td>0</td>\n      <td>0</td>\n      <td>40</td>\n      <td>United-States</td>\n      <td>&lt;=50K</td>\n    </tr>\n    <tr>\n      <th>42</th>\n      <td>24</td>\n      <td>Private</td>\n      <td>172987</td>\n      <td>Bachelors</td>\n      <td>13</td>\n      <td>Married-civ-spouse</td>\n      <td>Tech-support</td>\n      <td>Husband</td>\n      <td>White</td>\n      <td>Male</td>\n      <td>0</td>\n      <td>0</td>\n      <td>50</td>\n      <td>United-States</td>\n      <td>&lt;=50K</td>\n    </tr>\n    <tr>\n      <th>43</th>\n      <td>49</td>\n      <td>Private</td>\n      <td>94638</td>\n      <td>HS-grad</td>\n      <td>9</td>\n      <td>Separated</td>\n      <td>Adm-clerical</td>\n      <td>Unmarried</td>\n      <td>White</td>\n      <td>Female</td>\n      <td>0</td>\n      <td>0</td>\n      <td>40</td>\n      <td>United-States</td>\n      <td>&lt;=50K</td>\n    </tr>\n    <tr>\n      <th>44</th>\n      <td>25</td>\n      <td>Private</td>\n      <td>289980</td>\n      <td>HS-grad</td>\n      <td>9</td>\n      <td>Never-married</td>\n      <td>Handlers-cleaners</td>\n      <td>Not-in-family</td>\n      <td>White</td>\n      <td>Male</td>\n      <td>0</td>\n      <td>0</td>\n      <td>35</td>\n      <td>United-States</td>\n      <td>&lt;=50K</td>\n    </tr>\n    <tr>\n      <th>45</th>\n      <td>57</td>\n      <td>Federal-gov</td>\n      <td>337895</td>\n      <td>Bachelors</td>\n      <td>13</td>\n      <td>Married-civ-spouse</td>\n      <td>Prof-specialty</td>\n      <td>Husband</td>\n      <td>Black</td>\n      <td>Male</td>\n      <td>0</td>\n      <td>0</td>\n      <td>40</td>\n      <td>United-States</td>\n      <td>&gt;50K</td>\n    </tr>\n    <tr>\n      <th>46</th>\n      <td>53</td>\n      <td>Private</td>\n      <td>144361</td>\n      <td>HS-grad</td>\n      <td>9</td>\n      <td>Married-civ-spouse</td>\n      <td>Machine-op-inspct</td>\n      <td>Husband</td>\n      <td>White</td>\n      <td>Male</td>\n      <td>0</td>\n      <td>0</td>\n      <td>38</td>\n      <td>United-States</td>\n      <td>&lt;=50K</td>\n    </tr>\n    <tr>\n      <th>47</th>\n      <td>44</td>\n      <td>Private</td>\n      <td>128354</td>\n      <td>Masters</td>\n      <td>14</td>\n      <td>Divorced</td>\n      <td>Exec-managerial</td>\n      <td>Unmarried</td>\n      <td>White</td>\n      <td>Female</td>\n      <td>0</td>\n      <td>0</td>\n      <td>40</td>\n      <td>United-States</td>\n      <td>&lt;=50K</td>\n    </tr>\n    <tr>\n      <th>48</th>\n      <td>41</td>\n      <td>State-gov</td>\n      <td>101603</td>\n      <td>Assoc-voc</td>\n      <td>11</td>\n      <td>Married-civ-spouse</td>\n      <td>Craft-repair</td>\n      <td>Husband</td>\n      <td>White</td>\n      <td>Male</td>\n      <td>0</td>\n      <td>0</td>\n      <td>40</td>\n      <td>United-States</td>\n      <td>&lt;=50K</td>\n    </tr>\n    <tr>\n      <th>49</th>\n      <td>29</td>\n      <td>Private</td>\n      <td>271466</td>\n      <td>Assoc-voc</td>\n      <td>11</td>\n      <td>Never-married</td>\n      <td>Prof-specialty</td>\n      <td>Not-in-family</td>\n      <td>White</td>\n      <td>Male</td>\n      <td>0</td>\n      <td>0</td>\n      <td>43</td>\n      <td>United-States</td>\n      <td>&lt;=50K</td>\n    </tr>\n  </tbody>\n</table>\n</div>"
     },
     "execution_count": 81,
     "metadata": {},
     "output_type": "execute_result"
    }
   ],
   "source": [
    "df.head(50)"
   ],
   "metadata": {
    "collapsed": false,
    "ExecuteTime": {
     "end_time": "2024-03-21T07:49:05.962701Z",
     "start_time": "2024-03-21T07:49:05.933587Z"
    }
   },
   "id": "559e171d5c473060",
   "execution_count": 81
  },
  {
   "cell_type": "code",
   "outputs": [
    {
     "data": {
      "text/plain": "age                int64\nworkclass         object\nfnlwgt             int64\neducation         object\neducation-num      int64\nmarital-status    object\noccupation        object\nrelationship      object\nrace              object\nsex               object\ncapital-gain       int64\ncapital-loss       int64\nhours-per-week     int64\nnative-country    object\nincome            object\ndtype: object"
     },
     "execution_count": 82,
     "metadata": {},
     "output_type": "execute_result"
    }
   ],
   "source": [
    "df.dtypes"
   ],
   "metadata": {
    "collapsed": false,
    "ExecuteTime": {
     "end_time": "2024-03-21T07:49:05.978776Z",
     "start_time": "2024-03-21T07:49:05.964695Z"
    }
   },
   "id": "5b47b922c2c283f0",
   "execution_count": 82
  },
  {
   "cell_type": "code",
   "outputs": [
    {
     "data": {
      "text/plain": "age                 0\nworkclass         963\nfnlwgt              0\neducation           0\neducation-num       0\nmarital-status      0\noccupation        966\nrelationship        0\nrace                0\nsex                 0\ncapital-gain        0\ncapital-loss        0\nhours-per-week      0\nnative-country    274\nincome              0\ndtype: int64"
     },
     "execution_count": 83,
     "metadata": {},
     "output_type": "execute_result"
    }
   ],
   "source": [
    "df.isnull().sum()"
   ],
   "metadata": {
    "collapsed": false,
    "ExecuteTime": {
     "end_time": "2024-03-21T07:49:06.010611Z",
     "start_time": "2024-03-21T07:49:05.980735Z"
    }
   },
   "id": "1a3b757ccd7f98e1",
   "execution_count": 83
  },
  {
   "cell_type": "code",
   "outputs": [
    {
     "data": {
      "text/plain": "29"
     },
     "execution_count": 84,
     "metadata": {},
     "output_type": "execute_result"
    }
   ],
   "source": [
    "df.duplicated().sum()"
   ],
   "metadata": {
    "collapsed": false,
    "ExecuteTime": {
     "end_time": "2024-03-21T07:49:06.057341Z",
     "start_time": "2024-03-21T07:49:06.012623Z"
    }
   },
   "id": "4e9c7dfb3dd17455",
   "execution_count": 84
  },
  {
   "cell_type": "code",
   "outputs": [],
   "source": [
    "label_encoder = LabelEncoder()\n",
    "df['income'] = label_encoder.fit_transform(df['income'])"
   ],
   "metadata": {
    "collapsed": false,
    "ExecuteTime": {
     "end_time": "2024-03-21T07:49:06.073172Z",
     "start_time": "2024-03-21T07:49:06.059345Z"
    }
   },
   "id": "89404e8ecd9aa367",
   "execution_count": 85
  },
  {
   "cell_type": "code",
   "outputs": [],
   "source": [
    "# Fill missing numerical values with the mean (consider other strategies if needed)\n",
    "imputer = SimpleImputer(strategy='mean')\n",
    "df[['age', 'income', 'fnlwgt', 'education-num', 'capital-gain', 'capital-loss',\n",
    "    'hours-per-week']] = imputer.fit_transform(\n",
    "    df[['age', 'income', 'fnlwgt', 'education-num', 'capital-gain', 'capital-loss', 'hours-per-week']])"
   ],
   "metadata": {
    "collapsed": false,
    "ExecuteTime": {
     "end_time": "2024-03-21T07:49:06.103198Z",
     "start_time": "2024-03-21T07:49:06.074679Z"
    }
   },
   "id": "18606869d788e77b",
   "execution_count": 86
  },
  {
   "cell_type": "code",
   "outputs": [],
   "source": [
    "categorical_cols = ['workclass', 'education', 'marital-status', 'occupation', 'relationship', 'race', 'sex', 'native-country']\n",
    "labEnc = LabelEncoder()\n",
    "for col in categorical_cols:\n",
    "  df[col] = labEnc.fit_transform(df[col])"
   ],
   "metadata": {
    "collapsed": false,
    "ExecuteTime": {
     "end_time": "2024-03-21T07:49:06.164988Z",
     "start_time": "2024-03-21T07:49:06.106093Z"
    }
   },
   "id": "803a5a9fb9303e0e",
   "execution_count": 87
  },
  {
   "cell_type": "code",
   "outputs": [
    {
     "name": "stdout",
     "output_type": "stream",
     "text": [
      "No missing values in the dataset.\n"
     ]
    }
   ],
   "source": [
    "# check for missing values in the dataset\n",
    "if df.isnull().values.any():\n",
    "    print(\"There are missing values in the dataset.\")\n",
    "else:\n",
    "    print(\"No missing values in the dataset.\")"
   ],
   "metadata": {
    "collapsed": false,
    "ExecuteTime": {
     "end_time": "2024-03-21T07:49:06.180235Z",
     "start_time": "2024-03-21T07:49:06.166992Z"
    }
   },
   "id": "cd12ea5ef7ae93b1",
   "execution_count": 88
  },
  {
   "cell_type": "code",
   "outputs": [
    {
     "data": {
      "text/plain": "age               0\nworkclass         0\nfnlwgt            0\neducation         0\neducation-num     0\nmarital-status    0\noccupation        0\nrelationship      0\nrace              0\nsex               0\ncapital-gain      0\ncapital-loss      0\nhours-per-week    0\nnative-country    0\nincome            0\ndtype: int64"
     },
     "execution_count": 89,
     "metadata": {},
     "output_type": "execute_result"
    }
   ],
   "source": [
    "df.isnull().sum()"
   ],
   "metadata": {
    "collapsed": false,
    "ExecuteTime": {
     "end_time": "2024-03-21T07:49:06.195535Z",
     "start_time": "2024-03-21T07:49:06.182281Z"
    }
   },
   "id": "e56ed2aa765c8bae",
   "execution_count": 89
  },
  {
   "cell_type": "code",
   "outputs": [
    {
     "data": {
      "text/plain": "age                  74\nworkclass            10\nfnlwgt            28523\neducation            16\neducation-num        16\nmarital-status        7\noccupation           16\nrelationship          6\nrace                  5\nsex                   2\ncapital-gain        123\ncapital-loss         99\nhours-per-week       96\nnative-country       43\nincome                4\ndtype: int64"
     },
     "execution_count": 90,
     "metadata": {},
     "output_type": "execute_result"
    }
   ],
   "source": [
    "df.nunique()"
   ],
   "metadata": {
    "collapsed": false,
    "ExecuteTime": {
     "end_time": "2024-03-21T07:49:06.227102Z",
     "start_time": "2024-03-21T07:49:06.197537Z"
    }
   },
   "id": "85937bae0ea27d08",
   "execution_count": 90
  },
  {
   "cell_type": "code",
   "outputs": [
    {
     "data": {
      "text/plain": "                  count           mean            std      min       25%  \\\nage             48842.0      38.643585      13.710510     17.0      28.0   \nworkclass       48842.0       4.047889       1.528374      0.0       4.0   \nfnlwgt          48842.0  189664.134597  105604.025423  12285.0  117550.5   \neducation       48842.0      10.288420       3.874492      0.0       9.0   \neducation-num   48842.0      10.078089       2.570973      1.0       9.0   \nmarital-status  48842.0       2.618750       1.507703      0.0       2.0   \noccupation      48842.0       6.874370       4.284442      0.0       3.0   \nrelationship    48842.0       1.443287       1.602151      0.0       0.0   \nrace            48842.0       3.668052       0.845986      0.0       4.0   \nsex             48842.0       0.668482       0.470764      0.0       0.0   \ncapital-gain    48842.0    1079.067626    7452.019058      0.0       0.0   \ncapital-loss    48842.0      87.502314     403.004552      0.0       0.0   \nhours-per-week  48842.0      40.422382      12.391444      1.0      40.0   \nnative-country  48842.0      36.984972       7.278644      0.0      39.0   \nincome          48842.0       0.811904       0.972766      0.0       0.0   \n\n                     50%       75%        max  \nage                 37.0      48.0       90.0  \nworkclass            4.0       4.0        9.0  \nfnlwgt          178144.5  237642.0  1490400.0  \neducation           11.0      12.0       15.0  \neducation-num       10.0      12.0       16.0  \nmarital-status       2.0       4.0        6.0  \noccupation           7.0      10.0       15.0  \nrelationship         1.0       3.0        5.0  \nrace                 4.0       4.0        4.0  \nsex                  1.0       1.0        1.0  \ncapital-gain         0.0       0.0    99999.0  \ncapital-loss         0.0       0.0     4356.0  \nhours-per-week      40.0      45.0       99.0  \nnative-country      39.0      39.0       42.0  \nincome               0.0       1.0        3.0  ",
      "text/html": "<div>\n<style scoped>\n    .dataframe tbody tr th:only-of-type {\n        vertical-align: middle;\n    }\n\n    .dataframe tbody tr th {\n        vertical-align: top;\n    }\n\n    .dataframe thead th {\n        text-align: right;\n    }\n</style>\n<table border=\"1\" class=\"dataframe\">\n  <thead>\n    <tr style=\"text-align: right;\">\n      <th></th>\n      <th>count</th>\n      <th>mean</th>\n      <th>std</th>\n      <th>min</th>\n      <th>25%</th>\n      <th>50%</th>\n      <th>75%</th>\n      <th>max</th>\n    </tr>\n  </thead>\n  <tbody>\n    <tr>\n      <th>age</th>\n      <td>48842.0</td>\n      <td>38.643585</td>\n      <td>13.710510</td>\n      <td>17.0</td>\n      <td>28.0</td>\n      <td>37.0</td>\n      <td>48.0</td>\n      <td>90.0</td>\n    </tr>\n    <tr>\n      <th>workclass</th>\n      <td>48842.0</td>\n      <td>4.047889</td>\n      <td>1.528374</td>\n      <td>0.0</td>\n      <td>4.0</td>\n      <td>4.0</td>\n      <td>4.0</td>\n      <td>9.0</td>\n    </tr>\n    <tr>\n      <th>fnlwgt</th>\n      <td>48842.0</td>\n      <td>189664.134597</td>\n      <td>105604.025423</td>\n      <td>12285.0</td>\n      <td>117550.5</td>\n      <td>178144.5</td>\n      <td>237642.0</td>\n      <td>1490400.0</td>\n    </tr>\n    <tr>\n      <th>education</th>\n      <td>48842.0</td>\n      <td>10.288420</td>\n      <td>3.874492</td>\n      <td>0.0</td>\n      <td>9.0</td>\n      <td>11.0</td>\n      <td>12.0</td>\n      <td>15.0</td>\n    </tr>\n    <tr>\n      <th>education-num</th>\n      <td>48842.0</td>\n      <td>10.078089</td>\n      <td>2.570973</td>\n      <td>1.0</td>\n      <td>9.0</td>\n      <td>10.0</td>\n      <td>12.0</td>\n      <td>16.0</td>\n    </tr>\n    <tr>\n      <th>marital-status</th>\n      <td>48842.0</td>\n      <td>2.618750</td>\n      <td>1.507703</td>\n      <td>0.0</td>\n      <td>2.0</td>\n      <td>2.0</td>\n      <td>4.0</td>\n      <td>6.0</td>\n    </tr>\n    <tr>\n      <th>occupation</th>\n      <td>48842.0</td>\n      <td>6.874370</td>\n      <td>4.284442</td>\n      <td>0.0</td>\n      <td>3.0</td>\n      <td>7.0</td>\n      <td>10.0</td>\n      <td>15.0</td>\n    </tr>\n    <tr>\n      <th>relationship</th>\n      <td>48842.0</td>\n      <td>1.443287</td>\n      <td>1.602151</td>\n      <td>0.0</td>\n      <td>0.0</td>\n      <td>1.0</td>\n      <td>3.0</td>\n      <td>5.0</td>\n    </tr>\n    <tr>\n      <th>race</th>\n      <td>48842.0</td>\n      <td>3.668052</td>\n      <td>0.845986</td>\n      <td>0.0</td>\n      <td>4.0</td>\n      <td>4.0</td>\n      <td>4.0</td>\n      <td>4.0</td>\n    </tr>\n    <tr>\n      <th>sex</th>\n      <td>48842.0</td>\n      <td>0.668482</td>\n      <td>0.470764</td>\n      <td>0.0</td>\n      <td>0.0</td>\n      <td>1.0</td>\n      <td>1.0</td>\n      <td>1.0</td>\n    </tr>\n    <tr>\n      <th>capital-gain</th>\n      <td>48842.0</td>\n      <td>1079.067626</td>\n      <td>7452.019058</td>\n      <td>0.0</td>\n      <td>0.0</td>\n      <td>0.0</td>\n      <td>0.0</td>\n      <td>99999.0</td>\n    </tr>\n    <tr>\n      <th>capital-loss</th>\n      <td>48842.0</td>\n      <td>87.502314</td>\n      <td>403.004552</td>\n      <td>0.0</td>\n      <td>0.0</td>\n      <td>0.0</td>\n      <td>0.0</td>\n      <td>4356.0</td>\n    </tr>\n    <tr>\n      <th>hours-per-week</th>\n      <td>48842.0</td>\n      <td>40.422382</td>\n      <td>12.391444</td>\n      <td>1.0</td>\n      <td>40.0</td>\n      <td>40.0</td>\n      <td>45.0</td>\n      <td>99.0</td>\n    </tr>\n    <tr>\n      <th>native-country</th>\n      <td>48842.0</td>\n      <td>36.984972</td>\n      <td>7.278644</td>\n      <td>0.0</td>\n      <td>39.0</td>\n      <td>39.0</td>\n      <td>39.0</td>\n      <td>42.0</td>\n    </tr>\n    <tr>\n      <th>income</th>\n      <td>48842.0</td>\n      <td>0.811904</td>\n      <td>0.972766</td>\n      <td>0.0</td>\n      <td>0.0</td>\n      <td>0.0</td>\n      <td>1.0</td>\n      <td>3.0</td>\n    </tr>\n  </tbody>\n</table>\n</div>"
     },
     "execution_count": 91,
     "metadata": {},
     "output_type": "execute_result"
    }
   ],
   "source": [
    "df.describe().T  # Transposed"
   ],
   "metadata": {
    "collapsed": false,
    "ExecuteTime": {
     "end_time": "2024-03-21T07:49:06.289324Z",
     "start_time": "2024-03-21T07:49:06.229101Z"
    }
   },
   "id": "19ed2527ffb8a0f5",
   "execution_count": 91
  },
  {
   "cell_type": "markdown",
   "source": [
    "Value Count Function"
   ],
   "metadata": {
    "collapsed": false
   },
   "id": "83f2779c521f1b2d"
  },
  {
   "cell_type": "code",
   "outputs": [
    {
     "data": {
      "text/plain": "workclass\n4    33906\n6     3862\n2     3136\n7     1981\n0     1836\n5     1695\n1     1432\n9      963\n8       21\n3       10\nName: count, dtype: int64"
     },
     "execution_count": 92,
     "metadata": {},
     "output_type": "execute_result"
    }
   ],
   "source": [
    "df['workclass'].value_counts()"
   ],
   "metadata": {
    "collapsed": false,
    "ExecuteTime": {
     "end_time": "2024-03-21T07:49:06.304357Z",
     "start_time": "2024-03-21T07:49:06.291296Z"
    }
   },
   "id": "8c545ec638597247",
   "execution_count": 92
  },
  {
   "cell_type": "code",
   "outputs": [
    {
     "data": {
      "text/plain": "Index(['age', 'workclass', 'fnlwgt', 'education', 'education-num',\n       'marital-status', 'occupation', 'relationship', 'race', 'sex',\n       'capital-gain', 'capital-loss', 'hours-per-week', 'native-country',\n       'income'],\n      dtype='object')"
     },
     "execution_count": 93,
     "metadata": {},
     "output_type": "execute_result"
    }
   ],
   "source": [
    "df.columns"
   ],
   "metadata": {
    "collapsed": false,
    "ExecuteTime": {
     "end_time": "2024-03-21T07:49:06.320300Z",
     "start_time": "2024-03-21T07:49:06.306344Z"
    }
   },
   "id": "9959509694b0ef88",
   "execution_count": 93
  },
  {
   "cell_type": "code",
   "outputs": [
    {
     "data": {
      "text/plain": "occupation\n10    6172\n3     6112\n4     6086\n1     5611\n12    5504\n8     4923\n7     3022\n14    2355\n6     2072\n0     1843\n5     1490\n13    1446\n11     983\n15     966\n9      242\n2       15\nName: count, dtype: int64"
     },
     "execution_count": 94,
     "metadata": {},
     "output_type": "execute_result"
    }
   ],
   "source": [
    "df['occupation'].value_counts()"
   ],
   "metadata": {
    "collapsed": false,
    "ExecuteTime": {
     "end_time": "2024-03-21T07:49:06.336198Z",
     "start_time": "2024-03-21T07:49:06.322234Z"
    }
   },
   "id": "6fdd5002a3f189ca",
   "execution_count": 94
  },
  {
   "cell_type": "code",
   "outputs": [
    {
     "data": {
      "text/plain": "native-country\n39    43832\n26      951\n0       583\n30      295\n42      274\n11      206\n33      184\n2       182\n8       155\n19      151\n5       138\n9       127\n3       122\n35      115\n23      106\n22      105\n6       103\n24       92\n13       88\n31       87\n40       86\n4        85\n14       75\n32       67\n36       65\n20       59\n12       49\n27       49\n29       46\n7        45\n10       38\n21       37\n17       30\n37       30\n1        28\n38       27\n28       23\n25       23\n41       23\n34       21\n16       20\n18       19\n15        1\nName: count, dtype: int64"
     },
     "execution_count": 95,
     "metadata": {},
     "output_type": "execute_result"
    }
   ],
   "source": [
    "df['native-country'].value_counts()"
   ],
   "metadata": {
    "collapsed": false,
    "ExecuteTime": {
     "end_time": "2024-03-21T07:49:06.351340Z",
     "start_time": "2024-03-21T07:49:06.338198Z"
    }
   },
   "id": "de8a13d28f3e50a5",
   "execution_count": 95
  },
  {
   "cell_type": "code",
   "outputs": [
    {
     "data": {
      "text/plain": "income\n0.0    24720\n1.0    12435\n2.0     7841\n3.0     3846\nName: count, dtype: int64"
     },
     "execution_count": 96,
     "metadata": {},
     "output_type": "execute_result"
    }
   ],
   "source": [
    "df['income'].value_counts()"
   ],
   "metadata": {
    "collapsed": false,
    "ExecuteTime": {
     "end_time": "2024-03-21T07:49:06.366984Z",
     "start_time": "2024-03-21T07:49:06.353471Z"
    }
   },
   "id": "fe4dd00ad48d9b33",
   "execution_count": 96
  },
  {
   "cell_type": "code",
   "outputs": [
    {
     "data": {
      "text/plain": "<Axes: xlabel='income', ylabel='count'>"
     },
     "execution_count": 97,
     "metadata": {},
     "output_type": "execute_result"
    },
    {
     "data": {
      "text/plain": "<Figure size 640x480 with 1 Axes>",
      "image/png": "[encoded data removed]"
     },
     "metadata": {},
     "output_type": "display_data"
    }
   ],
   "source": [
    "sns.countplot(x='income', data=df, hue='sex', palette='coolwarm')"
   ],
   "metadata": {
    "collapsed": false,
    "ExecuteTime": {
     "end_time": "2024-03-21T07:49:06.758732Z",
     "start_time": "2024-03-21T07:49:06.368983Z"
    }
   },
   "id": "9cf667d773ecb81f",
   "execution_count": 97
  },
  {
   "cell_type": "code",
   "outputs": [
    {
     "name": "stdout",
     "output_type": "stream",
     "text": [
      "No columns contain '?' entries.\n"
     ]
    }
   ],
   "source": [
    "import pandas as pd\n",
    "import numpy as np\n",
    "\n",
    "def check_for_question_marks(df):\n",
    "    cols_with_question_marks = []\n",
    "    for col in df.columns:\n",
    "        if df[col].dtype == object:\n",
    "            # For string columns\n",
    "            if df[col].str.contains('?').any():\n",
    "                cols_with_question_marks.append(col)\n",
    "        else:\n",
    "            # For non-string columns\n",
    "            if (df[col] == '?').any():\n",
    "                cols_with_question_marks.append(col)\n",
    "    return cols_with_question_marks\n",
    "\n",
    "# Assuming your DataFrame is named 'df'\n",
    "columns_with_question_marks = check_for_question_marks(df)\n",
    "\n",
    "if columns_with_question_marks:\n",
    "    print(\"The following columns contain '?' entries:\")\n",
    "    for col in columns_with_question_marks:\n",
    "        print(f\"- {col}\")\n",
    "else:\n",
    "    print(\"No columns contain '?' entries.\")"
   ],
   "metadata": {
    "collapsed": false,
    "ExecuteTime": {
     "end_time": "2024-03-21T07:49:59.730075Z",
     "start_time": "2024-03-21T07:49:59.720978Z"
    }
   },
   "id": "924e18860f195cd8",
   "execution_count": 99
  },
  {
   "cell_type": "markdown",
   "source": [
    "Fill the ? with the mode"
   ],
   "metadata": {
    "collapsed": false
   },
   "id": "5eef3fe3227ee9f4"
  },
  {
   "cell_type": "code",
   "outputs": [
    {
     "name": "stdout",
     "output_type": "stream",
     "text": [
      "The mode of 'workclass' is: 4\n"
     ]
    }
   ],
   "source": [
    "mode_workclass = df['workclass'].mode()[0]\n",
    "print(f\"The mode of 'workclass' is: {mode_workclass}\")"
   ],
   "metadata": {
    "collapsed": false,
    "ExecuteTime": {
     "end_time": "2024-03-21T07:45:29.020138Z",
     "start_time": "2024-03-21T07:45:29.011136Z"
    }
   },
   "id": "679a208ca2a2e3ea",
   "execution_count": 72
  },
  {
   "cell_type": "code",
   "outputs": [],
   "source": [
    "df['workclass'] = df['workclass'].replace('?', mode_workclass)"
   ],
   "metadata": {
    "collapsed": false,
    "ExecuteTime": {
     "end_time": "2024-03-21T07:45:29.752461Z",
     "start_time": "2024-03-21T07:45:29.746441Z"
    }
   },
   "id": "ac3ebded31f63ce0",
   "execution_count": 73
  },
  {
   "cell_type": "code",
   "outputs": [
    {
     "name": "stdout",
     "output_type": "stream",
     "text": [
      "The mode of 'occupation' is: 10\n"
     ]
    }
   ],
   "source": [
    "mode_occupation = df['occupation'].mode()[0]\n",
    "print(f\"The mode of 'occupation' is: {mode_occupation}\")"
   ],
   "metadata": {
    "collapsed": false,
    "ExecuteTime": {
     "end_time": "2024-03-21T07:45:32.001563Z",
     "start_time": "2024-03-21T07:45:31.987478Z"
    }
   },
   "id": "fc07d53a04429fe6",
   "execution_count": 74
  },
  {
   "cell_type": "code",
   "outputs": [],
   "source": [
    "df['occupation'] = df['occupation'].replace('?', mode_occupation)"
   ],
   "metadata": {
    "collapsed": false,
    "ExecuteTime": {
     "end_time": "2024-03-21T07:45:32.715908Z",
     "start_time": "2024-03-21T07:45:32.699301Z"
    }
   },
   "id": "b8581d3b00cbcb59",
   "execution_count": 75
  },
  {
   "cell_type": "code",
   "outputs": [
    {
     "name": "stdout",
     "output_type": "stream",
     "text": [
      "The mode of 'native-country' is: 39\n"
     ]
    }
   ],
   "source": [
    "mode_ntv_country = df['native-country'].mode()[0]\n",
    "print(f\"The mode of 'native-country' is: {mode_ntv_country}\")"
   ],
   "metadata": {
    "collapsed": false,
    "ExecuteTime": {
     "end_time": "2024-03-21T07:51:14.235190Z",
     "start_time": "2024-03-21T07:51:14.226970Z"
    }
   },
   "id": "5ebb8b76730879dc",
   "execution_count": 101
  },
  {
   "cell_type": "code",
   "outputs": [],
   "source": [
    "df['native-country'] = df['native-country'].replace('?', mode_ntv_country)"
   ],
   "metadata": {
    "collapsed": false,
    "ExecuteTime": {
     "end_time": "2024-03-21T07:51:33.979367Z",
     "start_time": "2024-03-21T07:51:33.963838Z"
    }
   },
   "id": "6c99729e1cc91015",
   "execution_count": 102
  },
  {
   "cell_type": "code",
   "outputs": [
    {
     "data": {
      "text/plain": "    age  workclass    fnlwgt  education  education-num  marital-status  \\\n0  39.0          7   77516.0          9           13.0               4   \n1  50.0          6   83311.0          9           13.0               2   \n2  38.0          4  215646.0         11            9.0               0   \n3  53.0          4  234721.0          1            7.0               2   \n4  28.0          4  338409.0          9           13.0               2   \n5  37.0          4  284582.0         12           14.0               2   \n6  49.0          4  160187.0          6            5.0               3   \n7  52.0          6  209642.0         11            9.0               2   \n8  31.0          4   45781.0         12           14.0               4   \n9  42.0          4  159449.0          9           13.0               2   \n\n   occupation  relationship  race  sex  capital-gain  capital-loss  \\\n0           1             1     4    1        2174.0           0.0   \n1           4             0     4    1           0.0           0.0   \n2           6             1     4    1           0.0           0.0   \n3           6             0     2    1           0.0           0.0   \n4          10             5     2    0           0.0           0.0   \n5           4             5     4    0           0.0           0.0   \n6           8             1     2    0           0.0           0.0   \n7           4             0     4    1           0.0           0.0   \n8          10             1     4    0       14084.0           0.0   \n9           4             0     4    1        5178.0           0.0   \n\n   hours-per-week  native-country  income  \n0            40.0              39     0.0  \n1            13.0              39     0.0  \n2            40.0              39     0.0  \n3            40.0              39     0.0  \n4            40.0               5     0.0  \n5            40.0              39     0.0  \n6            16.0              23     0.0  \n7            45.0              39     2.0  \n8            50.0              39     2.0  \n9            40.0              39     2.0  ",
      "text/html": "<div>\n<style scoped>\n    .dataframe tbody tr th:only-of-type {\n        vertical-align: middle;\n    }\n\n    .dataframe tbody tr th {\n        vertical-align: top;\n    }\n\n    .dataframe thead th {\n        text-align: right;\n    }\n</style>\n<table border=\"1\" class=\"dataframe\">\n  <thead>\n    <tr style=\"text-align: right;\">\n      <th></th>\n      <th>age</th>\n      <th>workclass</th>\n      <th>fnlwgt</th>\n      <th>education</th>\n      <th>education-num</th>\n      <th>marital-status</th>\n      <th>occupation</th>\n      <th>relationship</th>\n      <th>race</th>\n      <th>sex</th>\n      <th>capital-gain</th>\n      <th>capital-loss</th>\n      <th>hours-per-week</th>\n      <th>native-country</th>\n      <th>income</th>\n    </tr>\n  </thead>\n  <tbody>\n    <tr>\n      <th>0</th>\n      <td>39.0</td>\n      <td>7</td>\n      <td>77516.0</td>\n      <td>9</td>\n      <td>13.0</td>\n      <td>4</td>\n      <td>1</td>\n      <td>1</td>\n      <td>4</td>\n      <td>1</td>\n      <td>2174.0</td>\n      <td>0.0</td>\n      <td>40.0</td>\n      <td>39</td>\n      <td>0.0</td>\n    </tr>\n    <tr>\n      <th>1</th>\n      <td>50.0</td>\n      <td>6</td>\n      <td>83311.0</td>\n      <td>9</td>\n      <td>13.0</td>\n      <td>2</td>\n      <td>4</td>\n      <td>0</td>\n      <td>4</td>\n      <td>1</td>\n      <td>0.0</td>\n      <td>0.0</td>\n      <td>13.0</td>\n      <td>39</td>\n      <td>0.0</td>\n    </tr>\n    <tr>\n      <th>2</th>\n      <td>38.0</td>\n      <td>4</td>\n      <td>215646.0</td>\n      <td>11</td>\n      <td>9.0</td>\n      <td>0</td>\n      <td>6</td>\n      <td>1</td>\n      <td>4</td>\n      <td>1</td>\n      <td>0.0</td>\n      <td>0.0</td>\n      <td>40.0</td>\n      <td>39</td>\n      <td>0.0</td>\n    </tr>\n    <tr>\n      <th>3</th>\n      <td>53.0</td>\n      <td>4</td>\n      <td>234721.0</td>\n      <td>1</td>\n      <td>7.0</td>\n      <td>2</td>\n      <td>6</td>\n      <td>0</td>\n      <td>2</td>\n      <td>1</td>\n      <td>0.0</td>\n      <td>0.0</td>\n      <td>40.0</td>\n      <td>39</td>\n      <td>0.0</td>\n    </tr>\n    <tr>\n      <th>4</th>\n      <td>28.0</td>\n      <td>4</td>\n      <td>338409.0</td>\n      <td>9</td>\n      <td>13.0</td>\n      <td>2</td>\n      <td>10</td>\n      <td>5</td>\n      <td>2</td>\n      <td>0</td>\n      <td>0.0</td>\n      <td>0.0</td>\n      <td>40.0</td>\n      <td>5</td>\n      <td>0.0</td>\n    </tr>\n    <tr>\n      <th>5</th>\n      <td>37.0</td>\n      <td>4</td>\n      <td>284582.0</td>\n      <td>12</td>\n      <td>14.0</td>\n      <td>2</td>\n      <td>4</td>\n      <td>5</td>\n      <td>4</td>\n      <td>0</td>\n      <td>0.0</td>\n      <td>0.0</td>\n      <td>40.0</td>\n      <td>39</td>\n      <td>0.0</td>\n    </tr>\n    <tr>\n      <th>6</th>\n      <td>49.0</td>\n      <td>4</td>\n      <td>160187.0</td>\n      <td>6</td>\n      <td>5.0</td>\n      <td>3</td>\n      <td>8</td>\n      <td>1</td>\n      <td>2</td>\n      <td>0</td>\n      <td>0.0</td>\n      <td>0.0</td>\n      <td>16.0</td>\n      <td>23</td>\n      <td>0.0</td>\n    </tr>\n    <tr>\n      <th>7</th>\n      <td>52.0</td>\n      <td>6</td>\n      <td>209642.0</td>\n      <td>11</td>\n      <td>9.0</td>\n      <td>2</td>\n      <td>4</td>\n      <td>0</td>\n      <td>4</td>\n      <td>1</td>\n      <td>0.0</td>\n      <td>0.0</td>\n      <td>45.0</td>\n      <td>39</td>\n      <td>2.0</td>\n    </tr>\n    <tr>\n      <th>8</th>\n      <td>31.0</td>\n      <td>4</td>\n      <td>45781.0</td>\n      <td>12</td>\n      <td>14.0</td>\n      <td>4</td>\n      <td>10</td>\n      <td>1</td>\n      <td>4</td>\n      <td>0</td>\n      <td>14084.0</td>\n      <td>0.0</td>\n      <td>50.0</td>\n      <td>39</td>\n      <td>2.0</td>\n    </tr>\n    <tr>\n      <th>9</th>\n      <td>42.0</td>\n      <td>4</td>\n      <td>159449.0</td>\n      <td>9</td>\n      <td>13.0</td>\n      <td>2</td>\n      <td>4</td>\n      <td>0</td>\n      <td>4</td>\n      <td>1</td>\n      <td>5178.0</td>\n      <td>0.0</td>\n      <td>40.0</td>\n      <td>39</td>\n      <td>2.0</td>\n    </tr>\n  </tbody>\n</table>\n</div>"
     },
     "execution_count": 105,
     "metadata": {},
     "output_type": "execute_result"
    }
   ],
   "source": [
    "df.head(10)"
   ],
   "metadata": {
    "collapsed": false,
    "ExecuteTime": {
     "end_time": "2024-03-21T07:53:00.758928Z",
     "start_time": "2024-03-21T07:53:00.727776Z"
    }
   },
   "id": "a7a70e0591e4b74e",
   "execution_count": 105
  },
  {
   "cell_type": "markdown",
   "source": [
    "Feature Engineering"
   ],
   "metadata": {
    "collapsed": false
   },
   "id": "71cfd8f1b34bac09"
  },
  {
   "cell_type": "code",
   "outputs": [],
   "source": [
    "# Education category\n",
    "\n",
    "df.education = df.education.replace([''])"
   ],
   "metadata": {
    "collapsed": false
   },
   "id": "98862b4e4e18f1d4"
  }
 ],
 "metadata": {
  "kernelspec": {
   "display_name": "Python 3",
   "language": "python",
   "name": "python3"
  },
  "language_info": {
   "codemirror_mode": {
    "name": "ipython",
    "version": 2
   },
   "file_extension": ".py",
   "mimetype": "text/x-python",
   "name": "python",
   "nbconvert_exporter": "python",
   "pygments_lexer": "ipython2",
   "version": "2.7.6"
  }
 },
 "nbformat": 4,
 "nbformat_minor": 5
}
